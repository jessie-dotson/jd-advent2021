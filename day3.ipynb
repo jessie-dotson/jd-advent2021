{
 "cells": [
  {
   "cell_type": "markdown",
   "id": "1c8cc440",
   "metadata": {},
   "source": [
    "Advent of code Day 3:\n",
    "\n",
    "Part 1:\n",
    "given a string of binary numbers, figure out which is the most[least] common in each column.  Create a new binary number out of the most[least] common values and convert it to decimal"
   ]
  },
  {
   "cell_type": "code",
   "execution_count": 1,
   "id": "5ad3f891",
   "metadata": {},
   "outputs": [],
   "source": [
    "import pandas as pd"
   ]
  },
  {
   "cell_type": "code",
   "execution_count": 5,
   "id": "3ab79693",
   "metadata": {},
   "outputs": [
    {
     "data": {
      "text/html": [
       "<div>\n",
       "<style scoped>\n",
       "    .dataframe tbody tr th:only-of-type {\n",
       "        vertical-align: middle;\n",
       "    }\n",
       "\n",
       "    .dataframe tbody tr th {\n",
       "        vertical-align: top;\n",
       "    }\n",
       "\n",
       "    .dataframe thead th {\n",
       "        text-align: right;\n",
       "    }\n",
       "</style>\n",
       "<table border=\"1\" class=\"dataframe\">\n",
       "  <thead>\n",
       "    <tr style=\"text-align: right;\">\n",
       "      <th></th>\n",
       "      <th>a</th>\n",
       "      <th>b</th>\n",
       "      <th>c</th>\n",
       "      <th>d</th>\n",
       "      <th>e</th>\n",
       "    </tr>\n",
       "  </thead>\n",
       "  <tbody>\n",
       "    <tr>\n",
       "      <th>0</th>\n",
       "      <td>0</td>\n",
       "      <td>0</td>\n",
       "      <td>1</td>\n",
       "      <td>0</td>\n",
       "      <td>0</td>\n",
       "    </tr>\n",
       "    <tr>\n",
       "      <th>1</th>\n",
       "      <td>1</td>\n",
       "      <td>1</td>\n",
       "      <td>1</td>\n",
       "      <td>1</td>\n",
       "      <td>0</td>\n",
       "    </tr>\n",
       "    <tr>\n",
       "      <th>2</th>\n",
       "      <td>1</td>\n",
       "      <td>0</td>\n",
       "      <td>1</td>\n",
       "      <td>1</td>\n",
       "      <td>0</td>\n",
       "    </tr>\n",
       "    <tr>\n",
       "      <th>3</th>\n",
       "      <td>1</td>\n",
       "      <td>0</td>\n",
       "      <td>1</td>\n",
       "      <td>1</td>\n",
       "      <td>1</td>\n",
       "    </tr>\n",
       "    <tr>\n",
       "      <th>4</th>\n",
       "      <td>1</td>\n",
       "      <td>0</td>\n",
       "      <td>1</td>\n",
       "      <td>0</td>\n",
       "      <td>1</td>\n",
       "    </tr>\n",
       "    <tr>\n",
       "      <th>5</th>\n",
       "      <td>0</td>\n",
       "      <td>1</td>\n",
       "      <td>1</td>\n",
       "      <td>1</td>\n",
       "      <td>1</td>\n",
       "    </tr>\n",
       "    <tr>\n",
       "      <th>6</th>\n",
       "      <td>0</td>\n",
       "      <td>0</td>\n",
       "      <td>1</td>\n",
       "      <td>1</td>\n",
       "      <td>1</td>\n",
       "    </tr>\n",
       "    <tr>\n",
       "      <th>7</th>\n",
       "      <td>1</td>\n",
       "      <td>1</td>\n",
       "      <td>1</td>\n",
       "      <td>0</td>\n",
       "      <td>0</td>\n",
       "    </tr>\n",
       "    <tr>\n",
       "      <th>8</th>\n",
       "      <td>1</td>\n",
       "      <td>0</td>\n",
       "      <td>0</td>\n",
       "      <td>0</td>\n",
       "      <td>0</td>\n",
       "    </tr>\n",
       "    <tr>\n",
       "      <th>9</th>\n",
       "      <td>1</td>\n",
       "      <td>1</td>\n",
       "      <td>0</td>\n",
       "      <td>0</td>\n",
       "      <td>1</td>\n",
       "    </tr>\n",
       "    <tr>\n",
       "      <th>10</th>\n",
       "      <td>0</td>\n",
       "      <td>0</td>\n",
       "      <td>0</td>\n",
       "      <td>1</td>\n",
       "      <td>0</td>\n",
       "    </tr>\n",
       "    <tr>\n",
       "      <th>11</th>\n",
       "      <td>0</td>\n",
       "      <td>1</td>\n",
       "      <td>0</td>\n",
       "      <td>1</td>\n",
       "      <td>0</td>\n",
       "    </tr>\n",
       "  </tbody>\n",
       "</table>\n",
       "</div>"
      ],
      "text/plain": [
       "    a  b  c  d  e\n",
       "0   0  0  1  0  0\n",
       "1   1  1  1  1  0\n",
       "2   1  0  1  1  0\n",
       "3   1  0  1  1  1\n",
       "4   1  0  1  0  1\n",
       "5   0  1  1  1  1\n",
       "6   0  0  1  1  1\n",
       "7   1  1  1  0  0\n",
       "8   1  0  0  0  0\n",
       "9   1  1  0  0  1\n",
       "10  0  0  0  1  0\n",
       "11  0  1  0  1  0"
      ]
     },
     "execution_count": 5,
     "metadata": {},
     "output_type": "execute_result"
    }
   ],
   "source": [
    "mywidths = [1,1,1,1,1]\n",
    "digits = pd.read_fwf(\"day3_sample.txt\", widths=mywidths)\n",
    "\n",
    "digits.head()"
   ]
  },
  {
   "cell_type": "code",
   "execution_count": 3,
   "id": "67bc254e",
   "metadata": {},
   "outputs": [
    {
     "name": "stdout",
     "output_type": "stream",
     "text": [
      "<class 'pandas.core.frame.DataFrame'>\n",
      "RangeIndex: 12 entries, 0 to 11\n",
      "Data columns (total 5 columns):\n",
      " #   Column  Non-Null Count  Dtype\n",
      "---  ------  --------------  -----\n",
      " 0   a       12 non-null     int64\n",
      " 1   b       12 non-null     int64\n",
      " 2   c       12 non-null     int64\n",
      " 3   d       12 non-null     int64\n",
      " 4   e       12 non-null     int64\n",
      "dtypes: int64(5)\n",
      "memory usage: 608.0 bytes\n"
     ]
    }
   ],
   "source": [
    "digits.info()"
   ]
  },
  {
   "cell_type": "code",
   "execution_count": 7,
   "id": "3e312a02",
   "metadata": {},
   "outputs": [],
   "source": [
    "jj = digits.sum()"
   ]
  },
  {
   "cell_type": "code",
   "execution_count": 22,
   "id": "d43a9fa2",
   "metadata": {},
   "outputs": [
    {
     "data": {
      "text/plain": [
       "a    1\n",
       "b    0\n",
       "c    1\n",
       "d    1\n",
       "e    0\n",
       "dtype: int64"
      ]
     },
     "execution_count": 22,
     "metadata": {},
     "output_type": "execute_result"
    }
   ],
   "source": [
    "d = {'a': 0, 'b': 0, 'c': 0, 'd':0, 'e':0}\n",
    "gamma = pd.Series(data=d, index=['a', 'b', 'c', 'd', 'e'])\n",
    "epsilon = pd.Series(data=d, index=['a','b','c','d','e'])\n",
    "num_of_elements = len(digits)\n",
    "\n",
    "for ind in jj.index:\n",
    "    if jj[ind] > num_of_elements / 2:\n",
    "        gamma[ind] = 1\n",
    "    else:\n",
    "        epsilon[ind]=1\n",
    "        \n",
    "gamma\n",
    "    "
   ]
  },
  {
   "cell_type": "code",
   "execution_count": 23,
   "id": "34f34dd5",
   "metadata": {},
   "outputs": [
    {
     "data": {
      "text/plain": [
       "a    0\n",
       "b    1\n",
       "c    0\n",
       "d    0\n",
       "e    1\n",
       "dtype: int64"
      ]
     },
     "execution_count": 23,
     "metadata": {},
     "output_type": "execute_result"
    }
   ],
   "source": [
    "epsilon"
   ]
  },
  {
   "cell_type": "code",
   "execution_count": 37,
   "id": "0ff34a0b",
   "metadata": {},
   "outputs": [],
   "source": [
    "def to_decimal(series):\n",
    "    #print(series['a'])\n",
    "    my_number = series['a']*2**4 + series['b']*2**3 + series['c']*2**2 + series['d']*2**1 + series['e']*2**0\n",
    "    return my_number"
   ]
  },
  {
   "cell_type": "code",
   "execution_count": 40,
   "id": "8fe72fa0",
   "metadata": {},
   "outputs": [
    {
     "data": {
      "text/plain": [
       "198"
      ]
     },
     "execution_count": 40,
     "metadata": {},
     "output_type": "execute_result"
    }
   ],
   "source": [
    "eps_number = to_decimal(epsilon)\n",
    "gamma_number = to_decimal(gamma)\n",
    "power_consumption = eps_number * gamma_number\n",
    "power_consumption\n"
   ]
  },
  {
   "cell_type": "markdown",
   "id": "02c79c85",
   "metadata": {},
   "source": [
    "Final input has more columns.  It should totally be possible to make the above flexible for the number of columns, but...  It's only the advent of code -- so let's brute force it abit!\n"
   ]
  },
  {
   "cell_type": "code",
   "execution_count": 41,
   "id": "09949f3a",
   "metadata": {},
   "outputs": [
    {
     "data": {
      "text/html": [
       "<div>\n",
       "<style scoped>\n",
       "    .dataframe tbody tr th:only-of-type {\n",
       "        vertical-align: middle;\n",
       "    }\n",
       "\n",
       "    .dataframe tbody tr th {\n",
       "        vertical-align: top;\n",
       "    }\n",
       "\n",
       "    .dataframe thead th {\n",
       "        text-align: right;\n",
       "    }\n",
       "</style>\n",
       "<table border=\"1\" class=\"dataframe\">\n",
       "  <thead>\n",
       "    <tr style=\"text-align: right;\">\n",
       "      <th></th>\n",
       "      <th>a</th>\n",
       "      <th>b</th>\n",
       "      <th>c</th>\n",
       "      <th>d</th>\n",
       "      <th>e</th>\n",
       "      <th>f</th>\n",
       "      <th>g</th>\n",
       "      <th>h</th>\n",
       "      <th>i</th>\n",
       "      <th>j</th>\n",
       "      <th>k</th>\n",
       "      <th>l</th>\n",
       "    </tr>\n",
       "  </thead>\n",
       "  <tbody>\n",
       "    <tr>\n",
       "      <th>0</th>\n",
       "      <td>0</td>\n",
       "      <td>0</td>\n",
       "      <td>0</td>\n",
       "      <td>0</td>\n",
       "      <td>1</td>\n",
       "      <td>1</td>\n",
       "      <td>1</td>\n",
       "      <td>1</td>\n",
       "      <td>0</td>\n",
       "      <td>0</td>\n",
       "      <td>1</td>\n",
       "      <td>0</td>\n",
       "    </tr>\n",
       "    <tr>\n",
       "      <th>1</th>\n",
       "      <td>0</td>\n",
       "      <td>1</td>\n",
       "      <td>0</td>\n",
       "      <td>0</td>\n",
       "      <td>0</td>\n",
       "      <td>0</td>\n",
       "      <td>1</td>\n",
       "      <td>0</td>\n",
       "      <td>0</td>\n",
       "      <td>1</td>\n",
       "      <td>0</td>\n",
       "      <td>0</td>\n",
       "    </tr>\n",
       "    <tr>\n",
       "      <th>2</th>\n",
       "      <td>0</td>\n",
       "      <td>1</td>\n",
       "      <td>0</td>\n",
       "      <td>0</td>\n",
       "      <td>1</td>\n",
       "      <td>1</td>\n",
       "      <td>1</td>\n",
       "      <td>1</td>\n",
       "      <td>1</td>\n",
       "      <td>1</td>\n",
       "      <td>1</td>\n",
       "      <td>1</td>\n",
       "    </tr>\n",
       "    <tr>\n",
       "      <th>3</th>\n",
       "      <td>0</td>\n",
       "      <td>0</td>\n",
       "      <td>0</td>\n",
       "      <td>1</td>\n",
       "      <td>0</td>\n",
       "      <td>1</td>\n",
       "      <td>0</td>\n",
       "      <td>0</td>\n",
       "      <td>1</td>\n",
       "      <td>1</td>\n",
       "      <td>1</td>\n",
       "      <td>1</td>\n",
       "    </tr>\n",
       "    <tr>\n",
       "      <th>4</th>\n",
       "      <td>0</td>\n",
       "      <td>1</td>\n",
       "      <td>0</td>\n",
       "      <td>1</td>\n",
       "      <td>0</td>\n",
       "      <td>0</td>\n",
       "      <td>0</td>\n",
       "      <td>1</td>\n",
       "      <td>1</td>\n",
       "      <td>1</td>\n",
       "      <td>1</td>\n",
       "      <td>1</td>\n",
       "    </tr>\n",
       "  </tbody>\n",
       "</table>\n",
       "</div>"
      ],
      "text/plain": [
       "   a  b  c  d  e  f  g  h  i  j  k  l\n",
       "0  0  0  0  0  1  1  1  1  0  0  1  0\n",
       "1  0  1  0  0  0  0  1  0  0  1  0  0\n",
       "2  0  1  0  0  1  1  1  1  1  1  1  1\n",
       "3  0  0  0  1  0  1  0  0  1  1  1  1\n",
       "4  0  1  0  1  0  0  0  1  1  1  1  1"
      ]
     },
     "execution_count": 41,
     "metadata": {},
     "output_type": "execute_result"
    }
   ],
   "source": [
    "mywidths = [1,1,1,1,1,1,1,1,1,1,1,1]\n",
    "digits = pd.read_fwf(\"day3_input.txt\", widths=mywidths)\n",
    "\n",
    "digits.head()"
   ]
  },
  {
   "cell_type": "code",
   "execution_count": 42,
   "id": "2eed13d6",
   "metadata": {},
   "outputs": [],
   "source": [
    "jj = digits.sum()"
   ]
  },
  {
   "cell_type": "code",
   "execution_count": 45,
   "id": "3f3103ad",
   "metadata": {},
   "outputs": [
    {
     "data": {
      "text/plain": [
       "a    1\n",
       "b    1\n",
       "c    0\n",
       "d    0\n",
       "e    0\n",
       "f    0\n",
       "g    1\n",
       "h    1\n",
       "i    1\n",
       "j    1\n",
       "k    1\n",
       "l    1\n",
       "dtype: int64"
      ]
     },
     "execution_count": 45,
     "metadata": {},
     "output_type": "execute_result"
    }
   ],
   "source": [
    "d = {'a': 0, 'b': 0, 'c': 0, 'd':0, 'e':0,'f':0,'g':0,'h':0,'i':0,'j':0,'k':0,'l':0}\n",
    "gamma = pd.Series(data=d, index=['a', 'b', 'c', 'd', 'e','f','g','h','i','j','k','l'])\n",
    "epsilon = pd.Series(data=d, index=['a','b','c','d','e','f','g','h','i','j','k','l'])\n",
    "num_of_elements = len(digits)\n",
    "\n",
    "for ind in jj.index:\n",
    "    if jj[ind] > num_of_elements / 2:\n",
    "        gamma[ind] = 1\n",
    "    else:\n",
    "        epsilon[ind]=1\n",
    "        \n",
    "gamma"
   ]
  },
  {
   "cell_type": "code",
   "execution_count": 95,
   "id": "dc54e97c",
   "metadata": {},
   "outputs": [],
   "source": [
    "def to_decimal(series):\n",
    "    #print(series['a'])\n",
    "    my_number = series['a']*2**11 + series['b']*2**10 + series['c']*2**9 + series['d']*2**8\n",
    "    my_number = my_number + series['e']*2**7 + series['f']*2**6 + series['g']*2**5 + series['h']*2**4 \n",
    "    my_number = my_number + series['i']*2**3 + series['j']*2**2 + series['k']*2**1 + series['l']*2**0\n",
    "    return my_number"
   ]
  },
  {
   "cell_type": "code",
   "execution_count": 54,
   "id": "8bd2a5c9",
   "metadata": {},
   "outputs": [
    {
     "data": {
      "text/plain": [
       "3009600"
      ]
     },
     "execution_count": 54,
     "metadata": {},
     "output_type": "execute_result"
    }
   ],
   "source": [
    "eps = to_decimal(epsilon)\n",
    "gam = to_decimal(gamma)\n",
    "power = eps * gam\n",
    "power"
   ]
  },
  {
   "cell_type": "markdown",
   "id": "dd821505",
   "metadata": {},
   "source": [
    "Part 2 is a bit more fussy...  to get the oxygen rating or each bit we have to identify which is the most common, and then only keep the entries that have that entry.  And repeat until there is only one number left.  To get the CO2 scrubber rating, we have to go through the same process -- only identifying the least common bit at every opportunity."
   ]
  },
  {
   "cell_type": "code",
   "execution_count": 91,
   "id": "6f6c72eb",
   "metadata": {},
   "outputs": [],
   "source": [
    "#starting with the sample...\n",
    "mywidths = [1,1,1,1,1]\n",
    "digits = pd.read_fwf(\"day3_sample.txt\", widths=mywidths)\n",
    "\n",
    "\n",
    "#now with the real file\n",
    "mywidths = [1,1,1,1,1,1,1,1,1,1,1,1]\n",
    "digits = pd.read_fwf(\"day3_input.txt\", widths=mywidths)\n",
    "\n"
   ]
  },
  {
   "cell_type": "code",
   "execution_count": 92,
   "id": "ae15a6bd",
   "metadata": {},
   "outputs": [
    {
     "name": "stdout",
     "output_type": "stream",
     "text": [
      "a 521\n",
      "b 278\n",
      "c 145\n",
      "d 73\n",
      "e 37\n",
      "f 20\n",
      "g 14\n",
      "h 8\n",
      "i 5\n",
      "j 3\n",
      "k 2\n",
      "l 1\n",
      "     a  b  c  d  e  f  g  h  i  j  k  l\n",
      "280  1  1  1  1  0  1  1  0  0  0  1  1\n"
     ]
    }
   ],
   "source": [
    "oxygen = digits.copy()\n",
    "num_of_elements = len(oxygen)\n",
    "jj = oxygen.sum()\n",
    "\n",
    "for ind in jj.index:\n",
    "    if jj[ind] >= num_of_elements / 2:\n",
    "        oxygen = oxygen[oxygen[ind]==1]\n",
    "    else:\n",
    "        oxygen = oxygen[oxygen[ind]==0]\n",
    "    print(ind,len(oxygen))\n",
    "    if len(oxygen)== 1: \n",
    "        break\n",
    "    else:\n",
    "        jj = oxygen.sum()\n",
    "        num_of_elements = len(oxygen)\n",
    "        \n",
    "\n",
    "print(oxygen)"
   ]
  },
  {
   "cell_type": "code",
   "execution_count": 93,
   "id": "db017722",
   "metadata": {},
   "outputs": [
    {
     "name": "stdout",
     "output_type": "stream",
     "text": [
      "a 479\n",
      "b 228\n",
      "c 106\n",
      "d 51\n",
      "e 23\n",
      "f 9\n",
      "g 2\n",
      "h 1\n",
      "     a  b  c  d  e  f  g  h  i  j  k  l\n",
      "779  0  1  1  0  1  1  1  0  0  0  1  0\n"
     ]
    }
   ],
   "source": [
    "co2= digits.copy()\n",
    "num_of_elements = len(co2)\n",
    "jj = co2.sum()\n",
    "\n",
    "for ind in jj.index:\n",
    "    if jj[ind] >= num_of_elements / 2:\n",
    "        co2 = co2[co2[ind]==0]\n",
    "    else:\n",
    "        co2 = co2[co2[ind]==1]\n",
    "    print(ind, len(co2))\n",
    "    if len(co2)== 1: \n",
    "        break\n",
    "    else:\n",
    "        jj = co2.sum()\n",
    "        num_of_elements = len(co2)\n",
    "        \n",
    "print(co2)"
   ]
  },
  {
   "cell_type": "code",
   "execution_count": 102,
   "id": "a273b1b6",
   "metadata": {},
   "outputs": [
    {
     "data": {
      "text/plain": [
       "6940518"
      ]
     },
     "execution_count": 102,
     "metadata": {},
     "output_type": "execute_result"
    }
   ],
   "source": [
    "oxygen_dec = to_decimal(oxygen)\n",
    "co2_dec = to_decimal(co2)\n",
    "life_support = oxygen_dec.iloc[0] * co2_dec.iloc[0]\n",
    "\n",
    "life_support"
   ]
  },
  {
   "cell_type": "code",
   "execution_count": null,
   "id": "9bff7c71",
   "metadata": {},
   "outputs": [],
   "source": []
  }
 ],
 "metadata": {
  "kernelspec": {
   "display_name": "Python 3 (ipykernel)",
   "language": "python",
   "name": "python3"
  },
  "language_info": {
   "codemirror_mode": {
    "name": "ipython",
    "version": 3
   },
   "file_extension": ".py",
   "mimetype": "text/x-python",
   "name": "python",
   "nbconvert_exporter": "python",
   "pygments_lexer": "ipython3",
   "version": "3.9.7"
  },
  "varInspector": {
   "cols": {
    "lenName": 16,
    "lenType": 16,
    "lenVar": 40
   },
   "kernels_config": {
    "python": {
     "delete_cmd_postfix": "",
     "delete_cmd_prefix": "del ",
     "library": "var_list.py",
     "varRefreshCmd": "print(var_dic_list())"
    },
    "r": {
     "delete_cmd_postfix": ") ",
     "delete_cmd_prefix": "rm(",
     "library": "var_list.r",
     "varRefreshCmd": "cat(var_dic_list()) "
    }
   },
   "types_to_exclude": [
    "module",
    "function",
    "builtin_function_or_method",
    "instance",
    "_Feature"
   ],
   "window_display": true
  }
 },
 "nbformat": 4,
 "nbformat_minor": 5
}
