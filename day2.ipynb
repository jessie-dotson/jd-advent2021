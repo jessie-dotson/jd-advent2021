{
 "cells": [
  {
   "cell_type": "markdown",
   "id": "58925255",
   "metadata": {},
   "source": [
    "Advent of Code day 2:\n",
    "    \n",
    "Part 1:  calculate the final position of the submarine\n",
    "\n",
    "    Forward moves in horizontal\n",
    "    \n",
    "    Up/Down moves in vertical"
   ]
  },
  {
   "cell_type": "code",
   "execution_count": 1,
   "id": "d683f6ef",
   "metadata": {},
   "outputs": [],
   "source": [
    "import pandas as pd"
   ]
  },
  {
   "cell_type": "code",
   "execution_count": 25,
   "id": "f2938dbf",
   "metadata": {},
   "outputs": [],
   "source": [
    "#df = pd.read_csv(\"day2_sample.txt\",delim_whitespace=True)\n",
    "df = pd.read_csv(\"day2_input.txt\", delim_whitespace=True)"
   ]
  },
  {
   "cell_type": "code",
   "execution_count": 26,
   "id": "24550553",
   "metadata": {},
   "outputs": [
    {
     "data": {
      "text/html": [
       "<div>\n",
       "<style scoped>\n",
       "    .dataframe tbody tr th:only-of-type {\n",
       "        vertical-align: middle;\n",
       "    }\n",
       "\n",
       "    .dataframe tbody tr th {\n",
       "        vertical-align: top;\n",
       "    }\n",
       "\n",
       "    .dataframe thead th {\n",
       "        text-align: right;\n",
       "    }\n",
       "</style>\n",
       "<table border=\"1\" class=\"dataframe\">\n",
       "  <thead>\n",
       "    <tr style=\"text-align: right;\">\n",
       "      <th></th>\n",
       "      <th>direction</th>\n",
       "      <th>amount</th>\n",
       "    </tr>\n",
       "  </thead>\n",
       "  <tbody>\n",
       "    <tr>\n",
       "      <th>0</th>\n",
       "      <td>forward</td>\n",
       "      <td>2</td>\n",
       "    </tr>\n",
       "    <tr>\n",
       "      <th>1</th>\n",
       "      <td>down</td>\n",
       "      <td>9</td>\n",
       "    </tr>\n",
       "    <tr>\n",
       "      <th>2</th>\n",
       "      <td>up</td>\n",
       "      <td>6</td>\n",
       "    </tr>\n",
       "    <tr>\n",
       "      <th>3</th>\n",
       "      <td>forward</td>\n",
       "      <td>1</td>\n",
       "    </tr>\n",
       "    <tr>\n",
       "      <th>4</th>\n",
       "      <td>down</td>\n",
       "      <td>5</td>\n",
       "    </tr>\n",
       "  </tbody>\n",
       "</table>\n",
       "</div>"
      ],
      "text/plain": [
       "  direction  amount\n",
       "0   forward       2\n",
       "1      down       9\n",
       "2        up       6\n",
       "3   forward       1\n",
       "4      down       5"
      ]
     },
     "execution_count": 26,
     "metadata": {},
     "output_type": "execute_result"
    }
   ],
   "source": [
    "df.head()"
   ]
  },
  {
   "cell_type": "code",
   "execution_count": 27,
   "id": "16163933",
   "metadata": {},
   "outputs": [
    {
     "name": "stdout",
     "output_type": "stream",
     "text": [
      "<class 'pandas.core.frame.DataFrame'>\n",
      "RangeIndex: 1000 entries, 0 to 999\n",
      "Data columns (total 2 columns):\n",
      " #   Column     Non-Null Count  Dtype \n",
      "---  ------     --------------  ----- \n",
      " 0   direction  1000 non-null   object\n",
      " 1   amount     1000 non-null   int64 \n",
      "dtypes: int64(1), object(1)\n",
      "memory usage: 15.8+ KB\n"
     ]
    }
   ],
   "source": [
    "df.info()"
   ]
  },
  {
   "cell_type": "code",
   "execution_count": 28,
   "id": "15f54f1d",
   "metadata": {},
   "outputs": [
    {
     "name": "stdout",
     "output_type": "stream",
     "text": [
      "2010 1030\n"
     ]
    }
   ],
   "source": [
    "horizontal = 0\n",
    "vertical = 0\n",
    "\n",
    "for ind in df.index:\n",
    "    if df['direction'][ind] == \"forward\":\n",
    "        horizontal = horizontal + df['amount'][ind]\n",
    "    if df['direction'][ind] == \"up\":\n",
    "        vertical = vertical - df['amount'][ind]\n",
    "    if df['direction'][ind] == \"down\":\n",
    "        vertical = vertical + df['amount'][ind]\n",
    "        \n",
    "print(horizontal, vertical)"
   ]
  },
  {
   "cell_type": "code",
   "execution_count": 29,
   "id": "8ba8a840",
   "metadata": {},
   "outputs": [
    {
     "data": {
      "text/plain": [
       "2070300"
      ]
     },
     "execution_count": 29,
     "metadata": {},
     "output_type": "execute_result"
    }
   ],
   "source": [
    "horizontal * vertical"
   ]
  },
  {
   "cell_type": "markdown",
   "id": "08adb8d2",
   "metadata": {},
   "source": [
    "Part 2 -- the actions encoded in each variable are a little more complicated.  up and down modifies \"aim\".  forward modifies horizontal and depth -- the depth modification depends on the aim."
   ]
  },
  {
   "cell_type": "code",
   "execution_count": 30,
   "id": "6dd1f76a",
   "metadata": {},
   "outputs": [
    {
     "name": "stdout",
     "output_type": "stream",
     "text": [
      "2010 1034321\n"
     ]
    }
   ],
   "source": [
    "horizontal = 0\n",
    "depth = 0\n",
    "aim = 0\n",
    "\n",
    "for ind in df.index:\n",
    "    if df['direction'][ind] == \"forward\":\n",
    "        horizontal = horizontal + df['amount'][ind]\n",
    "        depth = depth + aim*df['amount'][ind]\n",
    "    if df['direction'][ind] == \"up\":\n",
    "        aim = aim - df['amount'][ind]\n",
    "    if df['direction'][ind] == \"down\":\n",
    "        aim = aim + df['amount'][ind]\n",
    "        \n",
    "print(horizontal, depth)"
   ]
  },
  {
   "cell_type": "code",
   "execution_count": 31,
   "id": "cbeba6b4",
   "metadata": {},
   "outputs": [
    {
     "data": {
      "text/plain": [
       "2078985210"
      ]
     },
     "execution_count": 31,
     "metadata": {},
     "output_type": "execute_result"
    }
   ],
   "source": [
    "horizontal * depth"
   ]
  },
  {
   "cell_type": "code",
   "execution_count": null,
   "id": "7576c067",
   "metadata": {},
   "outputs": [],
   "source": []
  }
 ],
 "metadata": {
  "kernelspec": {
   "display_name": "Python 3 (ipykernel)",
   "language": "python",
   "name": "python3"
  },
  "language_info": {
   "codemirror_mode": {
    "name": "ipython",
    "version": 3
   },
   "file_extension": ".py",
   "mimetype": "text/x-python",
   "name": "python",
   "nbconvert_exporter": "python",
   "pygments_lexer": "ipython3",
   "version": "3.9.7"
  },
  "varInspector": {
   "cols": {
    "lenName": 16,
    "lenType": 16,
    "lenVar": 40
   },
   "kernels_config": {
    "python": {
     "delete_cmd_postfix": "",
     "delete_cmd_prefix": "del ",
     "library": "var_list.py",
     "varRefreshCmd": "print(var_dic_list())"
    },
    "r": {
     "delete_cmd_postfix": ") ",
     "delete_cmd_prefix": "rm(",
     "library": "var_list.r",
     "varRefreshCmd": "cat(var_dic_list()) "
    }
   },
   "types_to_exclude": [
    "module",
    "function",
    "builtin_function_or_method",
    "instance",
    "_Feature"
   ],
   "window_display": false
  }
 },
 "nbformat": 4,
 "nbformat_minor": 5
}
