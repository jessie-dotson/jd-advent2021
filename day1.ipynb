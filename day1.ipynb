{
 "cells": [
  {
   "cell_type": "markdown",
   "id": "7f698863",
   "metadata": {},
   "source": [
    "Trying the advent of code 2021. \n",
    "\n",
    "Day 1\n",
    "\n",
    "Part 1:  Need to read in a file where each line has a number.  Then count the number of times a line is larger than the one before it."
   ]
  },
  {
   "cell_type": "code",
   "execution_count": 1,
   "id": "233d0a01",
   "metadata": {},
   "outputs": [],
   "source": [
    "import pandas as pd"
   ]
  },
  {
   "cell_type": "code",
   "execution_count": 25,
   "id": "6935fb18",
   "metadata": {},
   "outputs": [],
   "source": [
    "sonar = pd.read_csv(\"day1_part1.txt\")\n",
    "#sonar = pd.read_csv(\"day1_sample.txt\")"
   ]
  },
  {
   "cell_type": "code",
   "execution_count": 23,
   "id": "d517ab3a",
   "metadata": {},
   "outputs": [
    {
     "data": {
      "text/html": [
       "<div>\n",
       "<style scoped>\n",
       "    .dataframe tbody tr th:only-of-type {\n",
       "        vertical-align: middle;\n",
       "    }\n",
       "\n",
       "    .dataframe tbody tr th {\n",
       "        vertical-align: top;\n",
       "    }\n",
       "\n",
       "    .dataframe thead th {\n",
       "        text-align: right;\n",
       "    }\n",
       "</style>\n",
       "<table border=\"1\" class=\"dataframe\">\n",
       "  <thead>\n",
       "    <tr style=\"text-align: right;\">\n",
       "      <th></th>\n",
       "      <th>depth</th>\n",
       "      <th>comment</th>\n",
       "    </tr>\n",
       "  </thead>\n",
       "  <tbody>\n",
       "    <tr>\n",
       "      <th>0</th>\n",
       "      <td>199</td>\n",
       "      <td>(NA)</td>\n",
       "    </tr>\n",
       "    <tr>\n",
       "      <th>1</th>\n",
       "      <td>200</td>\n",
       "      <td>(increased)</td>\n",
       "    </tr>\n",
       "    <tr>\n",
       "      <th>2</th>\n",
       "      <td>208</td>\n",
       "      <td>(increased)</td>\n",
       "    </tr>\n",
       "    <tr>\n",
       "      <th>3</th>\n",
       "      <td>210</td>\n",
       "      <td>(increased)</td>\n",
       "    </tr>\n",
       "    <tr>\n",
       "      <th>4</th>\n",
       "      <td>200</td>\n",
       "      <td>(decreased)</td>\n",
       "    </tr>\n",
       "    <tr>\n",
       "      <th>5</th>\n",
       "      <td>207</td>\n",
       "      <td>(increased)</td>\n",
       "    </tr>\n",
       "    <tr>\n",
       "      <th>6</th>\n",
       "      <td>240</td>\n",
       "      <td>(increased)</td>\n",
       "    </tr>\n",
       "    <tr>\n",
       "      <th>7</th>\n",
       "      <td>269</td>\n",
       "      <td>(increased)</td>\n",
       "    </tr>\n",
       "    <tr>\n",
       "      <th>8</th>\n",
       "      <td>260</td>\n",
       "      <td>(decreased)</td>\n",
       "    </tr>\n",
       "    <tr>\n",
       "      <th>9</th>\n",
       "      <td>263</td>\n",
       "      <td>(increased)</td>\n",
       "    </tr>\n",
       "  </tbody>\n",
       "</table>\n",
       "</div>"
      ],
      "text/plain": [
       "   depth       comment\n",
       "0    199          (NA)\n",
       "1    200   (increased)\n",
       "2    208   (increased)\n",
       "3    210   (increased)\n",
       "4    200   (decreased)\n",
       "5    207   (increased)\n",
       "6    240   (increased)\n",
       "7    269   (increased)\n",
       "8    260   (decreased)\n",
       "9    263   (increased)"
      ]
     },
     "execution_count": 23,
     "metadata": {},
     "output_type": "execute_result"
    }
   ],
   "source": [
    "sonar"
   ]
  },
  {
   "cell_type": "code",
   "execution_count": 16,
   "id": "39a33b59",
   "metadata": {},
   "outputs": [
    {
     "name": "stdout",
     "output_type": "stream",
     "text": [
      "<class 'pandas.core.frame.DataFrame'>\n",
      "RangeIndex: 2000 entries, 0 to 1999\n",
      "Data columns (total 1 columns):\n",
      " #   Column  Non-Null Count  Dtype\n",
      "---  ------  --------------  -----\n",
      " 0   depth   2000 non-null   int64\n",
      "dtypes: int64(1)\n",
      "memory usage: 15.8 KB\n"
     ]
    }
   ],
   "source": [
    "sonar.info()"
   ]
  },
  {
   "cell_type": "code",
   "execution_count": 17,
   "id": "ba8e4350",
   "metadata": {},
   "outputs": [
    {
     "data": {
      "text/plain": [
       "depth    9380\n",
       "dtype: int64"
      ]
     },
     "execution_count": 17,
     "metadata": {},
     "output_type": "execute_result"
    }
   ],
   "source": [
    "sonar.max()"
   ]
  },
  {
   "cell_type": "code",
   "execution_count": 18,
   "id": "235bcb7b",
   "metadata": {},
   "outputs": [
    {
     "name": "stdout",
     "output_type": "stream",
     "text": [
      "1681\n"
     ]
    }
   ],
   "source": [
    "previous = 9500\n",
    "mycount = 0\n",
    "for ind in sonar.index:\n",
    "    thisdepth = sonar['depth'][ind]\n",
    "    if thisdepth > previous:\n",
    "        mycount = mycount + 1\n",
    "    previous = thisdepth\n",
    "\n",
    "print(mycount)"
   ]
  },
  {
   "cell_type": "code",
   "execution_count": 21,
   "id": "ba102007",
   "metadata": {},
   "outputs": [
    {
     "data": {
      "text/plain": [
       "RangeIndex(start=0, stop=2000, step=1)"
      ]
     },
     "execution_count": 21,
     "metadata": {},
     "output_type": "execute_result"
    }
   ],
   "source": [
    "sonar.index"
   ]
  },
  {
   "cell_type": "markdown",
   "id": "0ab178fb",
   "metadata": {},
   "source": [
    "Part 2:  do a sliding sum of 3 measurements and then count the number of times the latest sum is larger than the previous one."
   ]
  },
  {
   "cell_type": "code",
   "execution_count": 26,
   "id": "ab21a200",
   "metadata": {},
   "outputs": [
    {
     "name": "stdout",
     "output_type": "stream",
     "text": [
      "1704\n"
     ]
    }
   ],
   "source": [
    "previous = 3*9500\n",
    "mycount = 0\n",
    "num_sums = len(sonar)-2\n",
    "\n",
    "for i in range(num_sums):\n",
    "    thissum = sonar.loc[i,\"depth\"] + sonar.loc[i+1,\"depth\"] + sonar.loc[i+2,\"depth\"]\n",
    "    if thissum > previous:\n",
    "        mycount = mycount+1\n",
    "    previous = thissum\n",
    "    \n",
    "print(mycount)\n",
    "        "
   ]
  },
  {
   "cell_type": "code",
   "execution_count": null,
   "id": "de55121b",
   "metadata": {},
   "outputs": [],
   "source": []
  }
 ],
 "metadata": {
  "kernelspec": {
   "display_name": "Python 3 (ipykernel)",
   "language": "python",
   "name": "python3"
  },
  "language_info": {
   "codemirror_mode": {
    "name": "ipython",
    "version": 3
   },
   "file_extension": ".py",
   "mimetype": "text/x-python",
   "name": "python",
   "nbconvert_exporter": "python",
   "pygments_lexer": "ipython3",
   "version": "3.9.7"
  },
  "varInspector": {
   "cols": {
    "lenName": 16,
    "lenType": 16,
    "lenVar": 40
   },
   "kernels_config": {
    "python": {
     "delete_cmd_postfix": "",
     "delete_cmd_prefix": "del ",
     "library": "var_list.py",
     "varRefreshCmd": "print(var_dic_list())"
    },
    "r": {
     "delete_cmd_postfix": ") ",
     "delete_cmd_prefix": "rm(",
     "library": "var_list.r",
     "varRefreshCmd": "cat(var_dic_list()) "
    }
   },
   "types_to_exclude": [
    "module",
    "function",
    "builtin_function_or_method",
    "instance",
    "_Feature"
   ],
   "window_display": true
  }
 },
 "nbformat": 4,
 "nbformat_minor": 5
}
